{
 "cells": [
  {
   "cell_type": "code",
   "execution_count": 1,
   "id": "72d960db",
   "metadata": {},
   "outputs": [
    {
     "name": "stdout",
     "output_type": "stream",
     "text": [
      "Enter the max number:10\n",
      "2\n",
      "3\n",
      "5\n",
      "7\n"
     ]
    }
   ],
   "source": [
    "max=int(input(\"Enter the max number:\"))\n",
    "for i in range(2,max):\n",
    "    for j in range(2,i):\n",
    "        if i%j == 0:\n",
    "            break\n",
    "    else:\n",
    "        print(i)"
   ]
  },
  {
   "cell_type": "code",
   "execution_count": 3,
   "id": "49f6e1ea",
   "metadata": {},
   "outputs": [
    {
     "name": "stdout",
     "output_type": "stream",
     "text": [
      "0\n",
      "2\n"
     ]
    }
   ],
   "source": [
    "\n"
   ]
  },
  {
   "cell_type": "code",
   "execution_count": 7,
   "id": "2eb75da2",
   "metadata": {},
   "outputs": [
    {
     "name": "stdout",
     "output_type": "stream",
     "text": [
      "[3, 2, 4, 1]\n"
     ]
    }
   ],
   "source": [
    "x = [3,2,4,1]\n",
    "n = len(x)\n",
    "flag = False\n",
    "for i in range(n+1):\n",
    "    for j in range(n-i-1):\n",
    "        \n",
    "            flag = True\n",
    "    if flag == False:\n",
    "        break\n",
    "print(x)"
   ]
  },
  {
   "cell_type": "code",
   "execution_count": 4,
   "id": "429dea15",
   "metadata": {},
   "outputs": [
    {
     "data": {
      "text/plain": [
       "[1, 2, 3, 4, 5, 6, 7, 9]"
      ]
     },
     "execution_count": 4,
     "metadata": {},
     "output_type": "execute_result"
    }
   ],
   "source": [
    "def srt(list_1):\n",
    "    indexing_len = len(list_1)-1\n",
    "    sorted = False\n",
    "    \n",
    "    while not sorted:\n",
    "        sorted = True\n",
    "        for i in range(0,indexing_len):\n",
    "            if list_1[i]> list_1[i+1]:\n",
    "                sorted = False\n",
    "                list_1[i],list_1[i+1]=list_1[i+1],list_1[i]\n",
    "    return list_1  \n",
    "\n",
    "srt([3,4,5,6,7,1,9,2])\n",
    "           "
   ]
  },
  {
   "cell_type": "code",
   "execution_count": 5,
   "id": "6fa290cb",
   "metadata": {},
   "outputs": [
    {
     "data": {
      "text/plain": [
       "[1, 2, 3, 4]"
      ]
     },
     "execution_count": 5,
     "metadata": {},
     "output_type": "execute_result"
    }
   ],
   "source": [
    "def bblsrt(list_a):\n",
    "    n = len(list_a)-1\n",
    "    sorted = False\n",
    "    \n",
    "    while not sorted:\n",
    "        sorted = True\n",
    "        for i in range(n):\n",
    "            if list_a[i]>list_a[i+1]:\n",
    "                sorted = False\n",
    "                list_a[i],list_a[i+1]=list_a[i+1],list_a[i]\n",
    "    return list_a \n",
    "\n",
    "bblsrt([3,2,4,1])"
   ]
  },
  {
   "cell_type": "code",
   "execution_count": 42,
   "id": "8879864a",
   "metadata": {},
   "outputs": [
    {
     "data": {
      "text/plain": [
       "[1, 2, 3, 4, 5, 6, 7, 8, 9]"
      ]
     },
     "execution_count": 42,
     "metadata": {},
     "output_type": "execute_result"
    }
   ],
   "source": [
    "def bs(l1):\n",
    "    n = len(l1)-1\n",
    "    sorted = False\n",
    "    \n",
    "    while not sorted:\n",
    "        sorted = True\n",
    "        for i in range(n):\n",
    "            if l1[i]>l1[i+1]:\n",
    "                sorted = False\n",
    "                l1[i],l1[i+1]=l1[i+1],l1[i]\n",
    "    return l1\n",
    "\n",
    "bs([5,2,3,4,6,7,1,8,9])"
   ]
  },
  {
   "cell_type": "code",
   "execution_count": 37,
   "id": "9297b091",
   "metadata": {},
   "outputs": [],
   "source": [
    "def binarysearch(l1,tar):\n",
    "    lower = 0 \n",
    "    upper = len(l1)-1\n",
    "    \n",
    "    while lower<=upper:\n",
    "        mid = (upper+lower)//2\n",
    "        if l1[mid]==tar:\n",
    "            print(\"Element found on index\",mid)\n",
    "            break\n",
    "        elif l1[mid]>tar:\n",
    "            upper = mid-1\n",
    "        else:\n",
    "            lower = upper+1\n",
    "\n",
    "binarysearch([1,2,3,4,5,6,7,8,9],6)"
   ]
  },
  {
   "cell_type": "markdown",
   "id": "277928f1",
   "metadata": {},
   "source": [
    "## Factorial of number "
   ]
  },
  {
   "cell_type": "code",
   "execution_count": 17,
   "id": "c5ee549c",
   "metadata": {},
   "outputs": [
    {
     "name": "stdout",
     "output_type": "stream",
     "text": [
      "Enter the number: 5\n",
      "The factorial of 5 is 120\n"
     ]
    }
   ],
   "source": [
    "num = int(input(\"Enter the number: \"))\n",
    "f=1 \n",
    "if num<0:\n",
    "    print(\"The number is negetive\")\n",
    "elif num==0:\n",
    "    print(\"The factorial of 0 is 1\")\n",
    "else:\n",
    "    for i in range(1,num+1):\n",
    "        f*=i\n",
    "print(\"The factorial of {} is {}\".format(num,f))"
   ]
  },
  {
   "cell_type": "code",
   "execution_count": 36,
   "id": "a4a521cb",
   "metadata": {},
   "outputs": [
    {
     "name": "stdout",
     "output_type": "stream",
     "text": [
      "0 1\n"
     ]
    }
   ],
   "source": [
    "ar = [2,7,11,15]\n",
    "target = 9\n",
    "n = len(ar)\n",
    "for i in range(n):\n",
    "    for j in range(i+1,n):\n",
    "        if ar[i]+ar[j]==target:\n",
    "            print(i,j)"
   ]
  },
  {
   "cell_type": "code",
   "execution_count": 38,
   "id": "287dd28f",
   "metadata": {},
   "outputs": [],
   "source": [
    "def binarysearch(l1,tar):\n",
    "    lower = 0 \n",
    "    upper = len(l1)-1\n",
    "    \n",
    "    while lower<=upper:\n",
    "        mid = (upper+lower)//2\n",
    "        if l1[mid]==tar:\n",
    "            print(\"Element found on index\",mid)\n",
    "            break\n",
    "        elif l1[mid]>tar:\n",
    "            upper = mid-1\n",
    "        else:\n",
    "            lower = upper+1\n",
    "\n",
    "binarysearch([1,2,3,4,5,6,7,8,9],6)"
   ]
  },
  {
   "cell_type": "code",
   "execution_count": 59,
   "id": "ffacf248",
   "metadata": {},
   "outputs": [
    {
     "ename": "IndexError",
     "evalue": "list index out of range",
     "output_type": "error",
     "traceback": [
      "\u001b[1;31m---------------------------------------------------------------------------\u001b[0m",
      "\u001b[1;31mIndexError\u001b[0m                                Traceback (most recent call last)",
      "Cell \u001b[1;32mIn[59], line 5\u001b[0m\n\u001b[0;32m      3\u001b[0m \u001b[38;5;28;01mfor\u001b[39;00m i \u001b[38;5;129;01min\u001b[39;00m \u001b[38;5;28mrange\u001b[39m(n):\n\u001b[0;32m      4\u001b[0m     \u001b[38;5;28;01mfor\u001b[39;00m j \u001b[38;5;129;01min\u001b[39;00m \u001b[38;5;28mrange\u001b[39m(n):\n\u001b[1;32m----> 5\u001b[0m         \u001b[38;5;28;01mif\u001b[39;00m nums[i]\u001b[38;5;241m==\u001b[39m\u001b[43mnums\u001b[49m\u001b[43m[\u001b[49m\u001b[43mj\u001b[49m\u001b[43m]\u001b[49m:\n\u001b[0;32m      6\u001b[0m             nums\u001b[38;5;241m.\u001b[39mremove(nums[j])\n\u001b[0;32m      7\u001b[0m \u001b[38;5;28mprint\u001b[39m(nums)\n",
      "\u001b[1;31mIndexError\u001b[0m: list index out of range"
     ]
    }
   ],
   "source": [
    "nums = [1,2,2]\n",
    "n = len(nums)\n",
    "for i in range(n):\n",
    "    for j in range(n):\n",
    "        if nums[i]==nums[j]:\n",
    "            nums.remove(nums[j])\n",
    "print(nums)\n",
    "    "
   ]
  },
  {
   "cell_type": "code",
   "execution_count": 47,
   "id": "c4b574e0",
   "metadata": {},
   "outputs": [
    {
     "data": {
      "text/plain": [
       "[2, 3, 4]"
      ]
     },
     "execution_count": 47,
     "metadata": {},
     "output_type": "execute_result"
    }
   ],
   "source": [
    "arr = [1,2,3,4]\n",
    "arr.remove(arr[0])\n",
    "arr"
   ]
  },
  {
   "cell_type": "code",
   "execution_count": 4,
   "id": "75adae39",
   "metadata": {},
   "outputs": [
    {
     "name": "stdout",
     "output_type": "stream",
     "text": [
      "[0, 1, 3, 0, 4]\n",
      "5\n"
     ]
    }
   ],
   "source": [
    "nums = [0,1,2,2,3,0,4,2]\n",
    "val = 2\n",
    "nums1 = []\n",
    "for i in range(len(nums)):\n",
    "    if nums[i]==val:\n",
    "        pass\n",
    "    else:\n",
    "        nums1.append(nums[i])\n",
    "print(nums1)\n",
    "print(len(nums1))"
   ]
  },
  {
   "cell_type": "code",
   "execution_count": 31,
   "id": "2cee6ab0",
   "metadata": {},
   "outputs": [
    {
     "data": {
      "text/plain": [
       "[1, 2, 6]"
      ]
     },
     "execution_count": 31,
     "metadata": {},
     "output_type": "execute_result"
    }
   ],
   "source": [
    "x = [1,2,5]\n",
    "y = ''.join(map(str,x))\n",
    "y1 = int(y)\n",
    "y2 = y1+1\n",
    "y3 = str(y2)\n",
    "lst=[]\n",
    "for i in y3:\n",
    "    lst.append(i)\n",
    "lst2=[]\n",
    "for i in lst:\n",
    "    lst2.append(int(i))\n",
    "lst2\n",
    "    \n",
    "\n"
   ]
  },
  {
   "cell_type": "code",
   "execution_count": 44,
   "id": "c610912a",
   "metadata": {},
   "outputs": [
    {
     "data": {
      "text/plain": [
       "[1]"
      ]
     },
     "execution_count": 44,
     "metadata": {},
     "output_type": "execute_result"
    }
   ],
   "source": [
    "nums1 = [0]\n",
    "nums2 = [1]\n",
    "m=0\n",
    "n=1\n",
    "\n",
    "nums1 = nums1[0:m]\n",
    "nums2 = nums2[0:n]\n",
    "nums1 = nums1+nums2\n",
    "nums1.sort()\n",
    "nums1\n"
   ]
  },
  {
   "cell_type": "code",
   "execution_count": 35,
   "id": "1e5be6dc",
   "metadata": {},
   "outputs": [
    {
     "data": {
      "text/plain": [
       "[1, 2, 3]"
      ]
     },
     "execution_count": 35,
     "metadata": {},
     "output_type": "execute_result"
    }
   ],
   "source": [
    "x = [1,2,3,4,5,6]\n",
    "x[0:3]"
   ]
  },
  {
   "cell_type": "code",
   "execution_count": 37,
   "id": "b131f6e6",
   "metadata": {},
   "outputs": [
    {
     "data": {
      "text/plain": [
       "'sa'"
      ]
     },
     "execution_count": 37,
     "metadata": {},
     "output_type": "execute_result"
    }
   ],
   "source": [
    "s ='sarthak'\n",
    "s[0:2]"
   ]
  },
  {
   "cell_type": "code",
   "execution_count": 4,
   "id": "89f69c3c",
   "metadata": {},
   "outputs": [
    {
     "name": "stdout",
     "output_type": "stream",
     "text": [
      "True\n"
     ]
    }
   ],
   "source": [
    "arr = [1,1,1,3,3,4,3,2,4,2]\n",
    "n = len(arr)\n",
    "for i in range(n):\n",
    "    for j in range(i+1,n):\n",
    "        if arr[i]==arr[j]:\n",
    "            print(True)\n",
    "            break\n",
    "    else:\n",
    "        continue\n",
    "    break\n",
    "else:\n",
    "    print(False)\n",
    "   "
   ]
  },
  {
   "cell_type": "code",
   "execution_count": 8,
   "id": "280a2f61",
   "metadata": {},
   "outputs": [
    {
     "data": {
      "text/plain": [
       "False"
      ]
     },
     "execution_count": 8,
     "metadata": {},
     "output_type": "execute_result"
    }
   ],
   "source": [
    "x = 1 == 2\n",
    "x\n",
    "         \n",
    "        "
   ]
  },
  {
   "cell_type": "code",
   "execution_count": 3,
   "id": "0954560c",
   "metadata": {},
   "outputs": [
    {
     "name": "stdout",
     "output_type": "stream",
     "text": [
      "6\n",
      "4\n",
      "3\n",
      "2\n",
      "5\n",
      "-2\n",
      "-3\n",
      "-4\n",
      "-1\n",
      "-1\n",
      "-2\n",
      "1\n",
      "-1\n",
      "2\n",
      "3\n"
     ]
    }
   ],
   "source": [
    "l1=[7,1,3,4,5,2]\n",
    "n = len(l1)\n",
    "for i in range(n):\n",
    "    for j in range(i+1,n):\n",
    "        print(l1[i]-l1[j])"
   ]
  },
  {
   "cell_type": "code",
   "execution_count": 7,
   "id": "b61d4472",
   "metadata": {},
   "outputs": [
    {
     "data": {
      "text/plain": [
       "7"
      ]
     },
     "execution_count": 7,
     "metadata": {},
     "output_type": "execute_result"
    }
   ],
   "source": [
    "z=lambda x,y:x+y\n",
    "z(2,5)"
   ]
  },
  {
   "cell_type": "code",
   "execution_count": 30,
   "id": "842acaf3",
   "metadata": {},
   "outputs": [
    {
     "data": {
      "text/plain": [
       "'Aman,aplan,acanal:Panama'"
      ]
     },
     "execution_count": 30,
     "metadata": {},
     "output_type": "execute_result"
    }
   ],
   "source": [
    "strs = \"A man, a plan, a canal: Panama\"\n",
    "s1 = ''.join(strs.split())\n",
    "s1\n",
    "s2 = ','.join(s1.split())\n",
    "s2    "
   ]
  },
  {
   "cell_type": "code",
   "execution_count": 16,
   "id": "ae4ea866",
   "metadata": {},
   "outputs": [
    {
     "data": {
      "text/plain": [
       "'raceacar'"
      ]
     },
     "execution_count": 16,
     "metadata": {},
     "output_type": "execute_result"
    }
   ],
   "source": [
    "x = 'race a car'\n",
    "y=x.split()\n",
    "z= ''.join(y)\n",
    "z"
   ]
  },
  {
   "cell_type": "code",
   "execution_count": null,
   "id": "9defeb92",
   "metadata": {},
   "outputs": [],
   "source": []
  }
 ],
 "metadata": {
  "kernelspec": {
   "display_name": "Python 3 (ipykernel)",
   "language": "python",
   "name": "python3"
  },
  "language_info": {
   "codemirror_mode": {
    "name": "ipython",
    "version": 3
   },
   "file_extension": ".py",
   "mimetype": "text/x-python",
   "name": "python",
   "nbconvert_exporter": "python",
   "pygments_lexer": "ipython3",
   "version": "3.10.9"
  }
 },
 "nbformat": 4,
 "nbformat_minor": 5
}
