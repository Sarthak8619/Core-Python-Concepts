{
 "cells": [
  {
   "cell_type": "markdown",
   "id": "0df4f704",
   "metadata": {},
   "source": [
    "# Control statements "
   ]
  },
  {
   "cell_type": "code",
   "execution_count": 1,
   "id": "2ffb3da6",
   "metadata": {},
   "outputs": [
    {
     "name": "stdout",
     "output_type": "stream",
     "text": [
      "One\n"
     ]
    }
   ],
   "source": [
    "### Apython program the expresses digit in from of one\n",
    "num=1\n",
    "if num ==1:\n",
    "    print(\"One\")"
   ]
  },
  {
   "cell_type": "code",
   "execution_count": 3,
   "id": "38aa6881",
   "metadata": {},
   "outputs": [
    {
     "name": "stdout",
     "output_type": "stream",
     "text": [
      "Enter the number:0\n",
      "Even\n"
     ]
    }
   ],
   "source": [
    "# checking if the number is even or odd with input (0 is ignored)\n",
    "num = int(input(\"Enter the number:\"))\n",
    "if num % 2 == 0:\n",
    "    print(\"Even\")\n",
    "else:\n",
    "    print(\"Odd\")"
   ]
  },
  {
   "cell_type": "code",
   "execution_count": 6,
   "id": "3f1e290d",
   "metadata": {},
   "outputs": [
    {
     "name": "stdout",
     "output_type": "stream",
     "text": [
      "Enter the number:8\n",
      "Positive\n"
     ]
    }
   ],
   "source": [
    "# checking if the number is positive or negetive or zero (if elif else)\n",
    "num = int(input(\"Enter the number:\"))\n",
    "if num > 0:\n",
    "    print('Positive')\n",
    "elif num < 0:\n",
    "    print('Negative')\n",
    "else:\n",
    "    print('Zero')"
   ]
  },
  {
   "cell_type": "markdown",
   "id": "6105a374",
   "metadata": {},
   "source": [
    "# While loop"
   ]
  },
  {
   "cell_type": "code",
   "execution_count": 7,
   "id": "10dc1844",
   "metadata": {},
   "outputs": [
    {
     "name": "stdout",
     "output_type": "stream",
     "text": [
      "1\n",
      "2\n",
      "3\n",
      "4\n",
      "5\n",
      "6\n",
      "7\n",
      "8\n",
      "9\n",
      "10\n",
      "end\n"
     ]
    }
   ],
   "source": [
    "#simple while loop that prints the numbers from 1 to 10\n",
    "x=1\n",
    "while x<=10:\n",
    "    print(x)\n",
    "    x+=1\n",
    "print(\"end\")"
   ]
  },
  {
   "cell_type": "code",
   "execution_count": 2,
   "id": "323233bf",
   "metadata": {},
   "outputs": [
    {
     "name": "stdout",
     "output_type": "stream",
     "text": [
      "100\n",
      "102\n",
      "104\n",
      "106\n",
      "108\n",
      "110\n",
      "112\n",
      "114\n",
      "116\n",
      "118\n",
      "120\n",
      "122\n",
      "124\n",
      "126\n",
      "128\n",
      "130\n",
      "132\n",
      "134\n",
      "136\n",
      "138\n",
      "140\n",
      "142\n",
      "144\n",
      "146\n",
      "148\n",
      "150\n",
      "152\n",
      "154\n",
      "156\n",
      "158\n",
      "160\n",
      "162\n",
      "164\n",
      "166\n",
      "168\n",
      "170\n",
      "172\n",
      "174\n",
      "176\n",
      "178\n",
      "180\n",
      "182\n",
      "184\n",
      "186\n",
      "188\n",
      "190\n",
      "192\n",
      "194\n",
      "196\n",
      "198\n",
      "200\n",
      "end\n"
     ]
    }
   ],
   "source": [
    "#a python program to display even numbers between 100 and 200\n",
    "x = 100\n",
    "while x>=100 and x<=200:\n",
    "    print(x)\n",
    "    x+=2\n",
    "print('end')"
   ]
  },
  {
   "cell_type": "code",
   "execution_count": 5,
   "id": "45e95141",
   "metadata": {},
   "outputs": [
    {
     "name": "stdout",
     "output_type": "stream",
     "text": [
      "Enter the starting number:5\n",
      "Enter the last number:15\n",
      "6\n",
      "8\n",
      "10\n",
      "12\n",
      "14\n",
      "end\n"
     ]
    }
   ],
   "source": [
    "# lets do same 100 -200 problem with for loop\n",
    "m = int(input(\"Enter the starting number:\"))\n",
    "n = int(input(\"Enter the last number:\"))\n",
    "for i in range(m,n+1):\n",
    "    if i%2 == 0:\n",
    "        print(i)\n",
    "print('end')"
   ]
  },
  {
   "cell_type": "code",
   "execution_count": 7,
   "id": "cbe85e09",
   "metadata": {},
   "outputs": [
    {
     "name": "stdout",
     "output_type": "stream",
     "text": [
      "Enter the word:sarthak\n",
      "s\n",
      "a\n",
      "r\n",
      "t\n",
      "h\n",
      "a\n",
      "k\n"
     ]
    }
   ],
   "source": [
    "# python program to print the sequence of word eneterd by the user\n",
    "str = input(\"Enter the word:\")\n",
    "n= len(str)\n",
    "for i in range(n):\n",
    "    print(str[i])\n",
    "    "
   ]
  },
  {
   "cell_type": "code",
   "execution_count": 13,
   "id": "279bb526",
   "metadata": {},
   "outputs": [
    {
     "name": "stdout",
     "output_type": "stream",
     "text": [
      "11\n",
      "10\n",
      "9\n",
      "8\n",
      "7\n",
      "6\n",
      "5\n",
      "4\n",
      "3\n",
      "2\n",
      "1\n"
     ]
    }
   ],
   "source": [
    "# a program to display numbers in decending order\n",
    "for i in range(11,0,-1):\n",
    "    print(i)"
   ]
  },
  {
   "cell_type": "code",
   "execution_count": 14,
   "id": "38e35604",
   "metadata": {},
   "outputs": [
    {
     "name": "stdout",
     "output_type": "stream",
     "text": [
      "10\n",
      "15.5\n",
      "a\n",
      "America\n"
     ]
    }
   ],
   "source": [
    "#program to display elements of list using for loop\n",
    "list = [10,15.5,'a','America']\n",
    "for i in list:\n",
    "    print(i)"
   ]
  },
  {
   "cell_type": "code",
   "execution_count": 16,
   "id": "f1a410c1",
   "metadata": {},
   "outputs": [
    {
     "name": "stdout",
     "output_type": "stream",
     "text": [
      "3\n",
      "7\n",
      "5\n",
      "6\n",
      "sum= 21\n"
     ]
    }
   ],
   "source": [
    "# finding sum of numbers using for loop\n",
    "list = [3,7,5,6]\n",
    "sum=0\n",
    "for i in list:\n",
    "    print(i)\n",
    "    sum+=i\n",
    "print(\"sum=\",sum)\n",
    "    "
   ]
  },
  {
   "cell_type": "code",
   "execution_count": 1,
   "id": "a27cc23f",
   "metadata": {},
   "outputs": [
    {
     "data": {
      "text/plain": [
       "21"
      ]
     },
     "execution_count": 1,
     "metadata": {},
     "output_type": "execute_result"
    }
   ],
   "source": [
    "#the ablove problem can simply be solved using sum functiolist.sum\n",
    "list = [3,7,5,6]\n",
    "sum(list)"
   ]
  },
  {
   "cell_type": "code",
   "execution_count": 1,
   "id": "67d24fa1",
   "metadata": {},
   "outputs": [
    {
     "name": "stdout",
     "output_type": "stream",
     "text": [
      "0\n",
      "1\n",
      "2\n",
      "3\n",
      "Sum= 21\n"
     ]
    }
   ],
   "source": [
    "#same program using while loop\n",
    "list = [3,7,5,6]\n",
    "sum = 0 \n",
    "i = 0\n",
    "while i < len(list):\n",
    "    print(i)\n",
    "    sum+=list[i]\n",
    "    i += 1\n",
    "print(\"Sum=\",sum)"
   ]
  },
  {
   "cell_type": "markdown",
   "id": "0132f4dd",
   "metadata": {},
   "source": [
    "# Nested Loops"
   ]
  },
  {
   "cell_type": "code",
   "execution_count": 2,
   "id": "634ab1a2",
   "metadata": {},
   "outputs": [
    {
     "name": "stdout",
     "output_type": "stream",
     "text": [
      "i= 0 \t j= 0\n",
      "i= 0 \t j= 1\n",
      "i= 0 \t j= 2\n",
      "i= 1 \t j= 0\n",
      "i= 1 \t j= 1\n",
      "i= 1 \t j= 2\n"
     ]
    }
   ],
   "source": [
    "#nested for loops \n",
    "for i in range(0,2):\n",
    "    for j in range(0,3):\n",
    "        print(\"i=\",i,'\\t','j=',j)"
   ]
  },
  {
   "cell_type": "code",
   "execution_count": 1,
   "id": "1b00b817",
   "metadata": {},
   "outputs": [
    {
     "name": "stdout",
     "output_type": "stream",
     "text": [
      "Enter the number of rows:6\n",
      "1 \n",
      "2 2 \n",
      "3 3 3 \n",
      "4 4 4 4 \n",
      "5 5 5 5 5 \n",
      "6 6 6 6 6 6 \n"
     ]
    }
   ],
   "source": [
    "# displaying the right angle triangle pattern using nested for loops \n",
    "n = int(input(\"Enter the number of rows:\"))\n",
    "for i in range(1,n+1):\n",
    "    for j in range(1,i+1):\n",
    "        print(i,end=' ')\n",
    "    print()"
   ]
  },
  {
   "cell_type": "code",
   "execution_count": 8,
   "id": "23a95e42",
   "metadata": {},
   "outputs": [
    {
     "name": "stdout",
     "output_type": "stream",
     "text": [
      "*\n",
      "**\n",
      "***\n",
      "****\n",
      "*****\n",
      "******\n",
      "*******\n",
      "********\n",
      "*********\n",
      "**********\n"
     ]
    }
   ],
   "source": [
    "# another way\n",
    "for i in range(1,11):\n",
    "    print(\"*\"*(i))"
   ]
  },
  {
   "cell_type": "code",
   "execution_count": 25,
   "id": "a0a2b80c",
   "metadata": {},
   "outputs": [
    {
     "name": "stdout",
     "output_type": "stream",
     "text": [
      "Enter the number:87\n",
      "found on following index 87\n"
     ]
    }
   ],
   "source": [
    "#perform simple linear search of element throught the list\n",
    "list = [1,2,3,4,5,6,16,7,87]\n",
    "n = int(input(\"Enter the number:\"))\n",
    "for i in list:\n",
    "    if i == n:\n",
    "        print(\"found on following index\",i)\n",
    "        break\n",
    "else:\n",
    "    print(\"No element found\")"
   ]
  },
  {
   "cell_type": "code",
   "execution_count": 1,
   "id": "f3216f6a",
   "metadata": {},
   "outputs": [
    {
     "name": "stdout",
     "output_type": "stream",
     "text": [
      "Enter the number: 10\n",
      "2 3 5 7 "
     ]
    }
   ],
   "source": [
    "# a program that takes maximum number and give you all the prime numbers before them\n",
    "max = int(input(\"Enter the number: \"))\n",
    "for num in range(2,max+1):\n",
    "    for i in range(2, num):\n",
    "        if num%i == 0:\n",
    "            break\n",
    "    else:\n",
    "        print(num,end=\" \")"
   ]
  },
  {
   "cell_type": "code",
   "execution_count": 2,
   "id": "21f010f4",
   "metadata": {},
   "outputs": [
    {
     "name": "stdout",
     "output_type": "stream",
     "text": [
      "Enter the max num:5\n",
      "1 2 3 5 "
     ]
    }
   ],
   "source": [
    "# in the next program we will generate the fibonacci sequence using nested for loops\n",
    "max = int(input(\"Enter the max num:\"))\n",
    "f1 = 0 \n",
    "f2 = 1\n",
    "c = 2\n",
    "while c<max+1:\n",
    "    f = f1 + f2\n",
    "    print(f,end =\" \")\n",
    "    f1,f2 = f2,f\n",
    "    c+=1\n",
    "    "
   ]
  },
  {
   "cell_type": "markdown",
   "id": "94127106",
   "metadata": {},
   "source": [
    "# Strings and Characters"
   ]
  },
  {
   "cell_type": "code",
   "execution_count": 17,
   "id": "8bf3d6d7",
   "metadata": {},
   "outputs": [
    {
     "name": "stdout",
     "output_type": "stream",
     "text": [
      "this is a string\n"
     ]
    },
    {
     "data": {
      "text/plain": [
       "str"
      ]
     },
     "execution_count": 17,
     "metadata": {},
     "output_type": "execute_result"
    }
   ],
   "source": [
    "#creating a string\n",
    "s1 = 'this is a string'\n",
    "print(s1)\n",
    "type(s1)"
   ]
  },
  {
   "cell_type": "code",
   "execution_count": 19,
   "id": "d87a9362",
   "metadata": {},
   "outputs": [
    {
     "name": "stdout",
     "output_type": "stream",
     "text": [
      "Enter the string:hello sarthak\n",
      "h e l l o   s a r t h a k \n",
      "k a h t r a s   o l l e h "
     ]
    }
   ],
   "source": [
    "#printing string in forward and reverse order\n",
    "s1 = str(input(\"Enter the string:\"))\n",
    "i = 0\n",
    "n = len(s1)\n",
    "while i < n:\n",
    "    print(s1[i], end=\" \")\n",
    "    i+=1\n",
    "\n",
    "print()\n",
    "\n",
    "i=-1\n",
    "while i >= -n:\n",
    "    print(s1[i], end=\" \")\n",
    "    i-=1"
   ]
  },
  {
   "cell_type": "markdown",
   "id": "901197a3",
   "metadata": {},
   "source": [
    "## slicing the string"
   ]
  },
  {
   "cell_type": "code",
   "execution_count": 4,
   "id": "3f73b459",
   "metadata": {},
   "outputs": [
    {
     "data": {
      "text/plain": [
       "'SrhkPtl'"
      ]
     },
     "execution_count": 4,
     "metadata": {},
     "output_type": "execute_result"
    }
   ],
   "source": [
    "str = 'Sarthak Patel'\n",
    "str[1:4]\n",
    "str[:5]\n",
    "str[5:]\n",
    "str[::2]"
   ]
  },
  {
   "cell_type": "code",
   "execution_count": 5,
   "id": "6b967426",
   "metadata": {},
   "outputs": [
    {
     "data": {
      "text/plain": [
       "'ate'"
      ]
     },
     "execution_count": 5,
     "metadata": {},
     "output_type": "execute_result"
    }
   ],
   "source": [
    "# negetive slicing \n",
    "str[-4:-1]"
   ]
  },
  {
   "cell_type": "code",
   "execution_count": 6,
   "id": "a0b6a50d",
   "metadata": {},
   "outputs": [
    {
     "data": {
      "text/plain": [
       "'letaP kahtraS'"
      ]
     },
     "execution_count": 6,
     "metadata": {},
     "output_type": "execute_result"
    }
   ],
   "source": [
    "str[-1::-1]"
   ]
  },
  {
   "cell_type": "markdown",
   "id": "e960d017",
   "metadata": {},
   "source": [
    "## Repreating the strings"
   ]
  },
  {
   "cell_type": "code",
   "execution_count": 7,
   "id": "43882768",
   "metadata": {},
   "outputs": [
    {
     "data": {
      "text/plain": [
       "'hellohello'"
      ]
     },
     "execution_count": 7,
     "metadata": {},
     "output_type": "execute_result"
    }
   ],
   "source": [
    "s1 = 'hello'\n",
    "s1*2"
   ]
  },
  {
   "cell_type": "code",
   "execution_count": 11,
   "id": "dfc32f7e",
   "metadata": {},
   "outputs": [
    {
     "data": {
      "text/plain": [
       "'sarthaksarthak'"
      ]
     },
     "execution_count": 11,
     "metadata": {},
     "output_type": "execute_result"
    }
   ],
   "source": [
    "s2 = 'sarthakpatel'\n",
    "s2[0:7]*2"
   ]
  },
  {
   "cell_type": "markdown",
   "id": "84db7b5c",
   "metadata": {},
   "source": [
    "## Concatenation in string "
   ]
  },
  {
   "cell_type": "code",
   "execution_count": 12,
   "id": "22580975",
   "metadata": {},
   "outputs": [
    {
     "name": "stdout",
     "output_type": "stream",
     "text": [
      "sarthakpatel\n"
     ]
    }
   ],
   "source": [
    "s1 = 'sarthak'\n",
    "s2 = 'patel'\n",
    "print(s1+s2)"
   ]
  },
  {
   "cell_type": "markdown",
   "id": "6af934f6",
   "metadata": {},
   "source": [
    "## Checking Membership"
   ]
  },
  {
   "cell_type": "code",
   "execution_count": 16,
   "id": "53e16d7e",
   "metadata": {},
   "outputs": [
    {
     "name": "stdout",
     "output_type": "stream",
     "text": [
      "Enter the string :sarthakisthebest\n",
      "Enter the substring:avg\n",
      "avg is not found in main string\n"
     ]
    }
   ],
   "source": [
    "s1 = input(\"Enter the string :\")\n",
    "s2 = input(\"Enter the substring:\")\n",
    "if s2 in s1:\n",
    "    print(s2,'is found in main string')\n",
    "else:\n",
    "    print(s2,'is not found in main string')"
   ]
  },
  {
   "cell_type": "markdown",
   "id": "875ef31a",
   "metadata": {},
   "source": [
    "## Comparing strings"
   ]
  },
  {
   "cell_type": "code",
   "execution_count": 18,
   "id": "28a5e733",
   "metadata": {},
   "outputs": [
    {
     "name": "stdout",
     "output_type": "stream",
     "text": [
      "they are different\n"
     ]
    }
   ],
   "source": [
    "s1 = 'box'\n",
    "s2 = 'boy'\n",
    "if s1 == s2:\n",
    "    print('they are same')\n",
    "else:\n",
    "    print(\"they are different\")"
   ]
  },
  {
   "cell_type": "code",
   "execution_count": 19,
   "id": "19b11cd4",
   "metadata": {},
   "outputs": [
    {
     "name": "stdout",
     "output_type": "stream",
     "text": [
      "is less than s2\n"
     ]
    }
   ],
   "source": [
    "if s1 < s2:\n",
    "    print('is less than s2')\n",
    "else:\n",
    "    print('is greater than s2')"
   ]
  },
  {
   "cell_type": "markdown",
   "id": "2236fe2f",
   "metadata": {},
   "source": [
    "## Removing spaces from the string "
   ]
  },
  {
   "cell_type": "code",
   "execution_count": 21,
   "id": "db76dc8f",
   "metadata": {},
   "outputs": [
    {
     "name": "stdout",
     "output_type": "stream",
     "text": [
      "sarthak patel  \n"
     ]
    }
   ],
   "source": [
    "s1 = '  sarthak patel  '\n",
    "print(s1.lstrip())"
   ]
  },
  {
   "cell_type": "code",
   "execution_count": 22,
   "id": "66dc1c1e",
   "metadata": {},
   "outputs": [
    {
     "name": "stdout",
     "output_type": "stream",
     "text": [
      "  sarthak patel\n"
     ]
    }
   ],
   "source": [
    "print(s1.rstrip())"
   ]
  },
  {
   "cell_type": "code",
   "execution_count": 23,
   "id": "a873e9fb",
   "metadata": {},
   "outputs": [
    {
     "name": "stdout",
     "output_type": "stream",
     "text": [
      "sarthak patel\n"
     ]
    }
   ],
   "source": [
    "print(s1.strip())"
   ]
  },
  {
   "cell_type": "markdown",
   "id": "bd9fddff",
   "metadata": {},
   "source": [
    "## Finding substrings "
   ]
  },
  {
   "cell_type": "code",
   "execution_count": 25,
   "id": "544677ac",
   "metadata": {},
   "outputs": [
    {
     "name": "stdout",
     "output_type": "stream",
     "text": [
      "Enter the main string :sarthak is the best\n",
      "Enter the sub string :better \n",
      "The substring is not found\n"
     ]
    }
   ],
   "source": [
    "str1 = input(\"Enter the main string :\")\n",
    "sub = input('Enter the sub string :')\n",
    "n = str1.find(sub,0,len(str1))\n",
    "if n == -1:\n",
    "    print(\"The substring is not found\")\n",
    "else:\n",
    "    print(\"The substring is found at position :\",n+1)\n"
   ]
  },
  {
   "cell_type": "code",
   "execution_count": 3,
   "id": "0ec94c41",
   "metadata": {},
   "outputs": [
    {
     "name": "stdout",
     "output_type": "stream",
     "text": [
      "Enter the main string:sarthak is the bestest of the best\n",
      "Enter the sub string:best\n",
      "substring found at position: 16\n",
      "substring found at position: 31\n"
     ]
    }
   ],
   "source": [
    "# python program that displays all the positions of the substring\n",
    "\n",
    "string = input(\"Enter the main string:\")\n",
    "sub = input(\"Enter the sub string:\")\n",
    "i = 0\n",
    "flag = False\n",
    "n = len(string)\n",
    "while i < n:\n",
    "    pos = string.find(sub,i,n)\n",
    "    if pos != -1:\n",
    "        print(\"substring found at position:\",pos+1)\n",
    "        i = pos+1\n",
    "        flag = True\n",
    "    else:\n",
    "        i = i+1\n",
    "if flag == False:\n",
    "    print(\"Substring not found\")"
   ]
  },
  {
   "cell_type": "markdown",
   "id": "ad18130e",
   "metadata": {},
   "source": [
    "## Counting substrings in a string"
   ]
  },
  {
   "cell_type": "code",
   "execution_count": 4,
   "id": "1287d802",
   "metadata": {},
   "outputs": [
    {
     "name": "stdout",
     "output_type": "stream",
     "text": [
      "2\n"
     ]
    }
   ],
   "source": [
    "str = 'new delhi'\n",
    "n= str.count('e',0,len(str))\n",
    "print(n)"
   ]
  },
  {
   "cell_type": "markdown",
   "id": "769ef15b",
   "metadata": {},
   "source": [
    "## Replacing a string with another string "
   ]
  },
  {
   "cell_type": "code",
   "execution_count": 5,
   "id": "284747f3",
   "metadata": {},
   "outputs": [
    {
     "name": "stdout",
     "output_type": "stream",
     "text": [
      "That is an amazing watch\n"
     ]
    }
   ],
   "source": [
    "str = 'That is an amazing car'\n",
    "s1 = 'car'\n",
    "s2 = 'watch'\n",
    "n = str.replace(s1,s2)\n",
    "print(n)"
   ]
  },
  {
   "cell_type": "markdown",
   "id": "57385329",
   "metadata": {},
   "source": [
    "## Splitting and joining strings "
   ]
  },
  {
   "cell_type": "code",
   "execution_count": 2,
   "id": "f7d8d024",
   "metadata": {},
   "outputs": [
    {
     "name": "stdout",
     "output_type": "stream",
     "text": [
      "Enter the numbers seperated by spaces:1 2 3\n",
      "1\n",
      "2\n",
      "3\n"
     ]
    }
   ],
   "source": [
    "# making a list of numbers from string got from input\n",
    "str = input(\"Enter the numbers seperated by spaces:\")\n",
    "lst = str.split(' ')\n",
    "for i in lst:\n",
    "    print(i)"
   ]
  },
  {
   "cell_type": "code",
   "execution_count": 3,
   "id": "27acebd4",
   "metadata": {},
   "outputs": [
    {
     "name": "stdout",
     "output_type": "stream",
     "text": [
      "1,2,3\n"
     ]
    },
    {
     "data": {
      "text/plain": [
       "str"
      ]
     },
     "execution_count": 3,
     "metadata": {},
     "output_type": "execute_result"
    }
   ],
   "source": [
    "str1 = ','.join(lst)\n",
    "print(str1)\n",
    "type(str1)"
   ]
  },
  {
   "cell_type": "markdown",
   "id": "63921fd0",
   "metadata": {},
   "source": [
    "## changing case in string "
   ]
  },
  {
   "cell_type": "code",
   "execution_count": 9,
   "id": "e23586a9",
   "metadata": {},
   "outputs": [
    {
     "data": {
      "text/plain": [
       "'MY NAME IS SARTHAK'"
      ]
     },
     "execution_count": 9,
     "metadata": {},
     "output_type": "execute_result"
    }
   ],
   "source": [
    "str1 = 'My name is Sarthak'\n",
    "str1.upper()"
   ]
  },
  {
   "cell_type": "code",
   "execution_count": 10,
   "id": "9403b34c",
   "metadata": {},
   "outputs": [
    {
     "data": {
      "text/plain": [
       "'my name is sarthak'"
      ]
     },
     "execution_count": 10,
     "metadata": {},
     "output_type": "execute_result"
    }
   ],
   "source": [
    "str1.lower()"
   ]
  },
  {
   "cell_type": "code",
   "execution_count": 11,
   "id": "311cfed8",
   "metadata": {},
   "outputs": [
    {
     "data": {
      "text/plain": [
       "'mY NAME IS sARTHAK'"
      ]
     },
     "execution_count": 11,
     "metadata": {},
     "output_type": "execute_result"
    }
   ],
   "source": [
    "str1.swapcase()"
   ]
  },
  {
   "cell_type": "code",
   "execution_count": 12,
   "id": "2209989e",
   "metadata": {},
   "outputs": [
    {
     "data": {
      "text/plain": [
       "'My Name Is Sarthak'"
      ]
     },
     "execution_count": 12,
     "metadata": {},
     "output_type": "execute_result"
    }
   ],
   "source": [
    "str1.title()"
   ]
  },
  {
   "cell_type": "markdown",
   "id": "ed951ded",
   "metadata": {},
   "source": [
    "## formatting the strings"
   ]
  },
  {
   "cell_type": "code",
   "execution_count": 13,
   "id": "bfa706a1",
   "metadata": {},
   "outputs": [
    {
     "name": "stdout",
     "output_type": "stream",
     "text": [
      "10 sarthak 19500.75\n"
     ]
    }
   ],
   "source": [
    "id = 10 \n",
    "name = 'sarthak'\n",
    "sal = 19500.75\n",
    "\n",
    "str = '{} {} {}'.format(id,name,sal)\n",
    "print(str)"
   ]
  },
  {
   "cell_type": "markdown",
   "id": "7a0fafef",
   "metadata": {},
   "source": [
    "## sorting strings\n"
   ]
  },
  {
   "cell_type": "code",
   "execution_count": 5,
   "id": "8249ec51",
   "metadata": {},
   "outputs": [
    {
     "name": "stdout",
     "output_type": "stream",
     "text": [
      "Enter the number of strings you will input:5\n",
      "Enter the string:sarthak\n",
      "Enter the string:nishil\n",
      "Enter the string:jemin\n",
      "Enter the string:nirman\n",
      "Enter the string:hitarth\n",
      "hitarth\n",
      "jemin\n",
      "nirman\n",
      "nishil\n",
      "sarthak\n"
     ]
    }
   ],
   "source": [
    "# python program to take input of strings and return them sorted\n",
    "\n",
    "str = []\n",
    "n = int(input(\"Enter the number of strings you will input:\"))\n",
    "\n",
    "for i in range(n):\n",
    "    word = input(\"Enter the string:\")\n",
    "    str.append(word)\n",
    "\n",
    "str1 = sorted(str)\n",
    "\n",
    "for i in str1:\n",
    "    print(i)"
   ]
  },
  {
   "cell_type": "markdown",
   "id": "6ebb58cd",
   "metadata": {},
   "source": [
    "## searching in a string"
   ]
  },
  {
   "cell_type": "code",
   "execution_count": 7,
   "id": "755de448",
   "metadata": {},
   "outputs": [
    {
     "name": "stdout",
     "output_type": "stream",
     "text": [
      "Enter the number of strings you need:3 \n",
      "Enter the string : sarthak\n",
      "Enter the string : nishil\n",
      "Enter the string : neec\n",
      "Enter the snippet to be found: jemin\n",
      "snippet not found :<\n"
     ]
    }
   ],
   "source": [
    "#python program to search the string\n",
    "str = []\n",
    "\n",
    "n = int(input(\"Enter the number of strings you need:\"))\n",
    "\n",
    "for i in range(n):\n",
    "    word = input(\"Enter the string : \")\n",
    "    str.append(word)\n",
    "\n",
    "s1 = input(\"Enter the snippet to be found: \")\n",
    "\n",
    "flag = False\n",
    "\n",
    "for i in range(len(str)):\n",
    "    if s1 == str[i]:\n",
    "        print(\"snippet found at index\",i+1)\n",
    "        flag = True\n",
    "if flag == False:\n",
    "    print(\"snippet not found :<\")\n",
    "    "
   ]
  },
  {
   "cell_type": "code",
   "execution_count": 8,
   "id": "9c77dc93",
   "metadata": {},
   "outputs": [
    {
     "name": "stdout",
     "output_type": "stream",
     "text": [
      "Enter the main string : sarthak is a programmer\n",
      "Enter the substring : best\n",
      "Enter the index at of substring : 12\n",
      "sarthak is abest programmer\n"
     ]
    }
   ],
   "source": [
    "## python program to enter a substring in main string from a specific index\n",
    "\n",
    "str = input(\"Enter the main string : \")\n",
    "sub = input(\"Enter the substring : \")\n",
    "n = int(input(\"Enter the index at of substring : \"))\n",
    "\n",
    "l1 =len(str)\n",
    "l2 =len(sub)\n",
    "\n",
    "str1 = []\n",
    "\n",
    "for i in range(n):\n",
    "    str1.append(str[i])\n",
    "for i in range(l2):\n",
    "    str1.append(sub[i])\n",
    "for i in range(n,l1):\n",
    "    str1.append(str[i])\n",
    "str1 = ''.join(str1)\n",
    "print(str1)"
   ]
  },
  {
   "cell_type": "code",
   "execution_count": 11,
   "id": "fd4b8a98",
   "metadata": {},
   "outputs": [
    {
     "name": "stdout",
     "output_type": "stream",
     "text": [
      "['s', 'a', 'r', 't', 'h', 'a', 'k', ' ', 'i', 's', ' ', 'a', ' ', 'b', 'o', 'y']\n"
     ]
    }
   ],
   "source": [
    "s = 'sarthak is a boy'\n",
    "v = list(s)\n",
    "print(v)"
   ]
  },
  {
   "cell_type": "markdown",
   "id": "f3f77264",
   "metadata": {},
   "source": [
    "# Functions"
   ]
  },
  {
   "cell_type": "code",
   "execution_count": 2,
   "id": "ea5f4e4d",
   "metadata": {},
   "outputs": [
    {
     "data": {
      "text/plain": [
       "15"
      ]
     },
     "execution_count": 2,
     "metadata": {},
     "output_type": "execute_result"
    }
   ],
   "source": [
    "# a sum function\n",
    "def sum(a,b):\n",
    "    return a+b\n",
    "sum(5,10)"
   ]
  },
  {
   "cell_type": "code",
   "execution_count": 8,
   "id": "a0b25966",
   "metadata": {},
   "outputs": [
    {
     "name": "stdout",
     "output_type": "stream",
     "text": [
      "Number is odd\n",
      "Number is even\n"
     ]
    }
   ],
   "source": [
    "# a function to test weather the number is even or odd\n",
    "\n",
    "def oddeven(n):\n",
    "    if n%2==0:\n",
    "        print(\"Number is even\")\n",
    "    else:\n",
    "        print(\"Number is odd\")\n",
    "\n",
    "oddeven(5)\n",
    "oddeven(6)\n"
   ]
  },
  {
   "cell_type": "code",
   "execution_count": 9,
   "id": "0cf5b0c2",
   "metadata": {},
   "outputs": [
    {
     "data": {
      "text/plain": [
       "120"
      ]
     },
     "execution_count": 9,
     "metadata": {},
     "output_type": "execute_result"
    }
   ],
   "source": [
    "# function to find the factorial number \n",
    "def fact(n):\n",
    "    f = 1\n",
    "    while n>=1:\n",
    "        f*=n\n",
    "        n-=1\n",
    "    return f\n",
    "\n",
    "fact(5)"
   ]
  },
  {
   "cell_type": "code",
   "execution_count": 7,
   "id": "359f1edf",
   "metadata": {},
   "outputs": [
    {
     "name": "stdout",
     "output_type": "stream",
     "text": [
      "Enter the number: 7\n",
      "prime\n"
     ]
    }
   ],
   "source": [
    "# a function to check if a number is prime \n",
    "def prime(n):\n",
    "    x=1\n",
    "    for i in range(2,n):\n",
    "        if n%i==0:\n",
    "            x=0\n",
    "            break\n",
    "        else:\n",
    "            x=1\n",
    "    return x\n",
    "\n",
    "num = int(input(\"Enter the number: \"))\n",
    "result = prime(num)\n",
    "if result == 1:\n",
    "    print(\"prime\")\n",
    "elif result == 0:\n",
    "    print(\"not prime\")"
   ]
  },
  {
   "cell_type": "markdown",
   "id": "98a61dc5",
   "metadata": {},
   "source": [
    "# Recursive Functions"
   ]
  },
  {
   "cell_type": "code",
   "execution_count": 5,
   "id": "ecb70240",
   "metadata": {},
   "outputs": [
    {
     "ename": "NameError",
     "evalue": "name 'fact' is not defined",
     "output_type": "error",
     "traceback": [
      "\u001b[1;31m---------------------------------------------------------------------------\u001b[0m",
      "\u001b[1;31mNameError\u001b[0m                                 Traceback (most recent call last)",
      "Cell \u001b[1;32mIn[5], line 11\u001b[0m\n\u001b[0;32m      8\u001b[0m         \u001b[38;5;28;01mreturn\u001b[39;00m result\n\u001b[0;32m     10\u001b[0m \u001b[38;5;28;01mfor\u001b[39;00m i \u001b[38;5;129;01min\u001b[39;00m \u001b[38;5;28mrange\u001b[39m(\u001b[38;5;241m1\u001b[39m,\u001b[38;5;241m11\u001b[39m):\n\u001b[1;32m---> 11\u001b[0m     \u001b[38;5;28mprint\u001b[39m(\u001b[38;5;124m'\u001b[39m\u001b[38;5;124mFactorial of number \u001b[39m\u001b[38;5;132;01m{}\u001b[39;00m\u001b[38;5;124m is \u001b[39m\u001b[38;5;132;01m{}\u001b[39;00m\u001b[38;5;124m'\u001b[39m\u001b[38;5;241m.\u001b[39mformat(i,\u001b[43mfactorial\u001b[49m\u001b[43m(\u001b[49m\u001b[43mi\u001b[49m\u001b[43m)\u001b[49m))\n",
      "Cell \u001b[1;32mIn[5], line 7\u001b[0m, in \u001b[0;36mfactorial\u001b[1;34m(n)\u001b[0m\n\u001b[0;32m      5\u001b[0m     results \u001b[38;5;241m=\u001b[39m \u001b[38;5;241m1\u001b[39m\n\u001b[0;32m      6\u001b[0m \u001b[38;5;28;01melse\u001b[39;00m:\n\u001b[1;32m----> 7\u001b[0m     result \u001b[38;5;241m=\u001b[39m n\u001b[38;5;241m*\u001b[39m\u001b[43mfact\u001b[49m(n\u001b[38;5;241m-\u001b[39m\u001b[38;5;241m1\u001b[39m)\n\u001b[0;32m      8\u001b[0m     \u001b[38;5;28;01mreturn\u001b[39;00m result\n",
      "\u001b[1;31mNameError\u001b[0m: name 'fact' is not defined"
     ]
    }
   ],
   "source": [
    "# first lets solve factorial as normall method\n",
    "\n",
    "def factorial(n=int):\n",
    "    if n==0:\n",
    "        results = 1\n",
    "    else:\n",
    "        result = n*fact(n-1)\n",
    "        return result\n",
    "\n",
    "for i in range(1,11):\n",
    "    print('Factorial of number {} is {}'.format(i,factorial(i)))"
   ]
  },
  {
   "cell_type": "markdown",
   "id": "1cbfae2b",
   "metadata": {},
   "source": [
    "# Anonymus functions or lambda function"
   ]
  },
  {
   "cell_type": "code",
   "execution_count": 4,
   "id": "3ae77036",
   "metadata": {},
   "outputs": [
    {
     "name": "stdout",
     "output_type": "stream",
     "text": [
      "25\n"
     ]
    }
   ],
   "source": [
    "#simple lambda function\n",
    "f = lambda x: x*x\n",
    "value = f(5)\n",
    "print(value)"
   ]
  },
  {
   "cell_type": "code",
   "execution_count": 21,
   "id": "96c045f4",
   "metadata": {},
   "outputs": [
    {
     "name": "stdout",
     "output_type": "stream",
     "text": [
      "7\n"
     ]
    }
   ],
   "source": [
    "#lambda sum\n",
    "sum = lambda x,y: x+y\n",
    "add = sum(2,5)\n",
    "print(add)"
   ]
  },
  {
   "cell_type": "markdown",
   "id": "f55203e6",
   "metadata": {},
   "source": [
    "## map function"
   ]
  },
  {
   "cell_type": "code",
   "execution_count": 24,
   "id": "6a5a2dc6",
   "metadata": {},
   "outputs": [
    {
     "name": "stdout",
     "output_type": "stream",
     "text": [
      "[4, 16, 9, 25]\n"
     ]
    }
   ],
   "source": [
    "lst = [2,4,3,5]\n",
    "lst1 = list(map(lambda x : x*x , lst))\n",
    "print(lst1)"
   ]
  },
  {
   "cell_type": "markdown",
   "id": "ef9bd366",
   "metadata": {},
   "source": [
    "# Lists and Tuples"
   ]
  },
  {
   "cell_type": "markdown",
   "id": "6b101779",
   "metadata": {},
   "source": [
    "## sorting a list"
   ]
  },
  {
   "cell_type": "code",
   "execution_count": 6,
   "id": "4b129750",
   "metadata": {},
   "outputs": [
    {
     "name": "stdout",
     "output_type": "stream",
     "text": [
      "Enter the total elements of list: 4\n",
      "Enter the element: 3\n",
      "Enter the element: 1\n",
      "Enter the element: 2\n",
      "Enter the element: 4\n",
      "Original list:  [3, 1, 2, 4]\n",
      "Sorted list:  [1, 2, 3, 4]\n"
     ]
    }
   ],
   "source": [
    "x=[]\n",
    "n = int(input(\"Enter the total elements of list: \"))\n",
    "for i in range(n):\n",
    "    m = int(input(\"Enter the element: \"))\n",
    "    x.append(m)\n",
    "\n",
    "print(\"Original list: \", x)\n",
    "\n",
    "#bubble sort\n",
    "flag = False\n",
    "for i in range(n-1):\n",
    "    for j in range(n-i-1):\n",
    "        if x[j]>x[j+1]:\n",
    "            x[j],x[j+1]=x[j+1],x[j]\n",
    "            flag=True\n",
    "    if flag==False:\n",
    "        break\n",
    "    else:\n",
    "        flag = False\n",
    "print('Sorted list: ',x)"
   ]
  },
  {
   "cell_type": "code",
   "execution_count": null,
   "id": "ee9391ea",
   "metadata": {},
   "outputs": [
    {
     "name": "stdout",
     "output_type": "stream",
     "text": [
      "Enter the total elements of list: 5\n",
      "Enter the element: 1\n",
      "Enter the element: 2\n",
      "Enter the element: 3\n",
      "Enter the element: 4\n",
      "Enter the element: 5\n",
      "Original list:  [1, 2, 3, 4, 5]\n",
      "Enter the element to be searched in the list: 3\n"
     ]
    }
   ],
   "source": [
    "# searching in list\n",
    "\n",
    "x=[]\n",
    "n = int(input(\"Enter the total elements of list: \"))\n",
    "for i in range(n):\n",
    "    m = int(input(\"Enter the element: \"))\n",
    "    x.append(m)\n",
    "\n",
    "print(\"Original list: \", x)\n",
    "\n",
    "\n",
    "s1=int(input(\"Enter the element to be searched in the list: \"))\n",
    "\n",
    "lower = 0\n",
    "upper = len(x)-1\n",
    "\n",
    "while lower<=upper:\n",
    "    mid = (lower+upper)//2\n",
    "\n",
    "    if x[mid]<s1:\n",
    "        lower = mid+1\n",
    "        \n",
    "    elif x[mid]>s1:\n",
    "        upper= mid-1\n",
    "    else:\n",
    "        print(\"Element found on index:\",mid)\n",
    "return -1"
   ]
  },
  {
   "cell_type": "code",
   "execution_count": 3,
   "id": "05ab70d2",
   "metadata": {},
   "outputs": [
    {
     "data": {
      "text/plain": [
       "[3, 4]"
      ]
     },
     "execution_count": 3,
     "metadata": {},
     "output_type": "execute_result"
    }
   ],
   "source": [
    "s1 = [1,2,3,4]\n",
    "s2 = [3,4,5,6]\n",
    "one = set(s1)\n",
    "two = set(s2)\n",
    "inter = one.intersection(two)\n",
    "common = list(inter)\n",
    "common"
   ]
  },
  {
   "cell_type": "markdown",
   "id": "c323d5da",
   "metadata": {},
   "source": [
    "## Pandas"
   ]
  },
  {
   "cell_type": "code",
   "execution_count": 3,
   "id": "e6dd3e3e",
   "metadata": {},
   "outputs": [
    {
     "name": "stdout",
     "output_type": "stream",
     "text": [
      "            0\n",
      "0    socrates\n",
      "1       camus\n",
      "2  dostoevsky\n",
      "3       kafka\n",
      "4      seneca\n"
     ]
    }
   ],
   "source": [
    "# making dataframe with list\n",
    "import pandas as pd\n",
    "lst = ['socrates','camus','dostoevsky','kafka','seneca']\n",
    "df = pd.DataFrame(lst)\n",
    "print(df)"
   ]
  },
  {
   "cell_type": "code",
   "execution_count": 4,
   "id": "972bfb24",
   "metadata": {},
   "outputs": [
    {
     "name": "stdout",
     "output_type": "stream",
     "text": [
      "         Name          Works\n",
      "0       camus     the plague\n",
      "1  dostoevsky   white nights\n",
      "2       kafka  metamorphosis\n",
      "3      seneca        letters\n"
     ]
    }
   ],
   "source": [
    "#making a df using dictionary\n",
    "dict = {'Name':['camus','dostoevsky','kafka','seneca'],\n",
    "       'Works':['the plague','white nights','metamorphosis','letters']}\n",
    "df = pd.DataFrame(dict)\n",
    "print(df)"
   ]
  },
  {
   "cell_type": "code",
   "execution_count": 5,
   "id": "de625162",
   "metadata": {},
   "outputs": [
    {
     "name": "stdout",
     "output_type": "stream",
     "text": [
      "     Name  Age    Address Qualification\n",
      "0     Jai   27      Delhi           Msc\n",
      "1  Princi   24     Kanpur            MA\n",
      "2  Gaurav   22  Allahabad           MCA\n",
      "3    Anuj   32    Kannauj           Phd\n"
     ]
    }
   ],
   "source": [
    "data = {'Name':['Jai', 'Princi', 'Gaurav', 'Anuj'],\n",
    "        'Age':[27, 24, 22, 32],\n",
    "        'Address':['Delhi', 'Kanpur', 'Allahabad', 'Kannauj'],\n",
    "        'Qualification':['Msc', 'MA', 'MCA', 'Phd']}\n",
    "df = pd.DataFrame(data)\n",
    "print(df)"
   ]
  },
  {
   "cell_type": "code",
   "execution_count": 6,
   "id": "99aed23f",
   "metadata": {},
   "outputs": [
    {
     "data": {
      "text/html": [
       "<div>\n",
       "<style scoped>\n",
       "    .dataframe tbody tr th:only-of-type {\n",
       "        vertical-align: middle;\n",
       "    }\n",
       "\n",
       "    .dataframe tbody tr th {\n",
       "        vertical-align: top;\n",
       "    }\n",
       "\n",
       "    .dataframe thead th {\n",
       "        text-align: right;\n",
       "    }\n",
       "</style>\n",
       "<table border=\"1\" class=\"dataframe\">\n",
       "  <thead>\n",
       "    <tr style=\"text-align: right;\">\n",
       "      <th></th>\n",
       "      <th>Name</th>\n",
       "      <th>Qualification</th>\n",
       "    </tr>\n",
       "  </thead>\n",
       "  <tbody>\n",
       "    <tr>\n",
       "      <th>0</th>\n",
       "      <td>Jai</td>\n",
       "      <td>Msc</td>\n",
       "    </tr>\n",
       "    <tr>\n",
       "      <th>1</th>\n",
       "      <td>Princi</td>\n",
       "      <td>MA</td>\n",
       "    </tr>\n",
       "    <tr>\n",
       "      <th>2</th>\n",
       "      <td>Gaurav</td>\n",
       "      <td>MCA</td>\n",
       "    </tr>\n",
       "    <tr>\n",
       "      <th>3</th>\n",
       "      <td>Anuj</td>\n",
       "      <td>Phd</td>\n",
       "    </tr>\n",
       "  </tbody>\n",
       "</table>\n",
       "</div>"
      ],
      "text/plain": [
       "     Name Qualification\n",
       "0     Jai           Msc\n",
       "1  Princi            MA\n",
       "2  Gaurav           MCA\n",
       "3    Anuj           Phd"
      ]
     },
     "execution_count": 6,
     "metadata": {},
     "output_type": "execute_result"
    }
   ],
   "source": [
    "df[['Name','Qualification']]"
   ]
  },
  {
   "cell_type": "code",
   "execution_count": 7,
   "id": "1c20aacc",
   "metadata": {},
   "outputs": [
    {
     "data": {
      "text/html": [
       "<div>\n",
       "<style scoped>\n",
       "    .dataframe tbody tr th:only-of-type {\n",
       "        vertical-align: middle;\n",
       "    }\n",
       "\n",
       "    .dataframe tbody tr th {\n",
       "        vertical-align: top;\n",
       "    }\n",
       "\n",
       "    .dataframe thead th {\n",
       "        text-align: right;\n",
       "    }\n",
       "</style>\n",
       "<table border=\"1\" class=\"dataframe\">\n",
       "  <thead>\n",
       "    <tr style=\"text-align: right;\">\n",
       "      <th></th>\n",
       "      <th>Age</th>\n",
       "      <th>Qualification</th>\n",
       "    </tr>\n",
       "  </thead>\n",
       "  <tbody>\n",
       "    <tr>\n",
       "      <th>0</th>\n",
       "      <td>27</td>\n",
       "      <td>Msc</td>\n",
       "    </tr>\n",
       "    <tr>\n",
       "      <th>1</th>\n",
       "      <td>24</td>\n",
       "      <td>MA</td>\n",
       "    </tr>\n",
       "    <tr>\n",
       "      <th>2</th>\n",
       "      <td>22</td>\n",
       "      <td>MCA</td>\n",
       "    </tr>\n",
       "    <tr>\n",
       "      <th>3</th>\n",
       "      <td>32</td>\n",
       "      <td>Phd</td>\n",
       "    </tr>\n",
       "  </tbody>\n",
       "</table>\n",
       "</div>"
      ],
      "text/plain": [
       "   Age Qualification\n",
       "0   27           Msc\n",
       "1   24            MA\n",
       "2   22           MCA\n",
       "3   32           Phd"
      ]
     },
     "execution_count": 7,
     "metadata": {},
     "output_type": "execute_result"
    }
   ],
   "source": [
    "df[['Age','Qualification']]"
   ]
  },
  {
   "cell_type": "code",
   "execution_count": 27,
   "id": "fd6d4b6b",
   "metadata": {},
   "outputs": [
    {
     "name": "stdout",
     "output_type": "stream",
     "text": [
      "              Name            Team  Number Position   Age Height  Weight  \\\n",
      "0    Avery Bradley  Boston Celtics     0.0       PG  25.0    6-2   180.0   \n",
      "1      Jae Crowder  Boston Celtics    99.0       SF  25.0    6-6   235.0   \n",
      "2     John Holland  Boston Celtics    30.0       SG  27.0    6-5   205.0   \n",
      "3      R.J. Hunter  Boston Celtics    28.0       SG  22.0    6-5   185.0   \n",
      "4    Jonas Jerebko  Boston Celtics     8.0       PF  29.0   6-10   231.0   \n",
      "..             ...             ...     ...      ...   ...    ...     ...   \n",
      "453   Shelvin Mack       Utah Jazz     8.0       PG  26.0    6-3   203.0   \n",
      "454      Raul Neto       Utah Jazz    25.0       PG  24.0    6-1   179.0   \n",
      "455   Tibor Pleiss       Utah Jazz    21.0        C  26.0    7-3   256.0   \n",
      "456    Jeff Withey       Utah Jazz    24.0        C  26.0    7-0   231.0   \n",
      "457            NaN             NaN     NaN      NaN   NaN    NaN     NaN   \n",
      "\n",
      "               College     Salary  \n",
      "0                Texas  7730337.0  \n",
      "1            Marquette  6796117.0  \n",
      "2    Boston University        NaN  \n",
      "3        Georgia State  1148640.0  \n",
      "4                  NaN  5000000.0  \n",
      "..                 ...        ...  \n",
      "453             Butler  2433333.0  \n",
      "454                NaN   900000.0  \n",
      "455                NaN  2900000.0  \n",
      "456             Kansas   947276.0  \n",
      "457                NaN        NaN  \n",
      "\n",
      "[458 rows x 9 columns]\n"
     ]
    }
   ],
   "source": [
    "## importing csv\n",
    "data = pd.read_csv('nba.csv')\n",
    "print(data)"
   ]
  },
  {
   "cell_type": "code",
   "execution_count": 17,
   "id": "b10f99f7",
   "metadata": {},
   "outputs": [
    {
     "name": "stdout",
     "output_type": "stream",
     "text": [
      "Team        Los Angeles Lakers\n",
      "Number                    24.0\n",
      "Position                    SF\n",
      "Age                       37.0\n",
      "Height                     6-6\n",
      "Weight                   212.0\n",
      "College                    NaN\n",
      "Salary              25000000.0\n",
      "Name: Kobe Bryant, dtype: object \n",
      "\n",
      "\n",
      "\n",
      " Team        Utah Jazz\n",
      "Number           24.0\n",
      "Position            C\n",
      "Age              26.0\n",
      "Height            7-0\n",
      "Weight          231.0\n",
      "College        Kansas\n",
      "Salary       947276.0\n",
      "Name: Jeff Withey, dtype: object\n"
     ]
    }
   ],
   "source": [
    "first = data.loc['Kobe Bryant']\n",
    "second = data.loc['Jeff Withey']\n",
    "\n",
    "print(first,\"\\n\\n\\n\\n\",second)"
   ]
  },
  {
   "cell_type": "code",
   "execution_count": 19,
   "id": "12ef4f92",
   "metadata": {},
   "outputs": [
    {
     "name": "stdout",
     "output_type": "stream",
     "text": [
      "Team        Boston Celtics\n",
      "Number                 0.0\n",
      "Position                PG\n",
      "Age                   25.0\n",
      "Height                 6-2\n",
      "Weight               180.0\n",
      "College              Texas\n",
      "Salary           7730337.0\n",
      "Name: Avery Bradley, dtype: object\n"
     ]
    }
   ],
   "source": [
    "#by using iloc\n",
    "third = data.iloc[0]\n",
    "print(third)"
   ]
  },
  {
   "cell_type": "code",
   "execution_count": 28,
   "id": "9477ad4c",
   "metadata": {},
   "outputs": [
    {
     "name": "stdout",
     "output_type": "stream",
     "text": [
      "              Name            Team  Number Position   Age Height  Weight  \\\n",
      "0    Avery Bradley  Boston Celtics     0.0       PG  25.0    6-2   180.0   \n",
      "1      Jae Crowder  Boston Celtics    99.0       SF  25.0    6-6   235.0   \n",
      "2     John Holland  Boston Celtics    30.0       SG  27.0    6-5   205.0   \n",
      "3      R.J. Hunter  Boston Celtics    28.0       SG  22.0    6-5   185.0   \n",
      "4    Jonas Jerebko  Boston Celtics     8.0       PF  29.0   6-10   231.0   \n",
      "..             ...             ...     ...      ...   ...    ...     ...   \n",
      "453   Shelvin Mack       Utah Jazz     8.0       PG  26.0    6-3   203.0   \n",
      "454      Raul Neto       Utah Jazz    25.0       PG  24.0    6-1   179.0   \n",
      "455   Tibor Pleiss       Utah Jazz    21.0        C  26.0    7-3   256.0   \n",
      "456    Jeff Withey       Utah Jazz    24.0        C  26.0    7-0   231.0   \n",
      "457            NaN             NaN     NaN      NaN   NaN    NaN     NaN   \n",
      "\n",
      "               College     Salary  \n",
      "0                Texas  7730337.0  \n",
      "1            Marquette  6796117.0  \n",
      "2    Boston University        NaN  \n",
      "3        Georgia State  1148640.0  \n",
      "4                  NaN  5000000.0  \n",
      "..                 ...        ...  \n",
      "453             Butler  2433333.0  \n",
      "454                NaN   900000.0  \n",
      "455                NaN  2900000.0  \n",
      "456             Kansas   947276.0  \n",
      "457                NaN        NaN  \n",
      "\n",
      "[458 rows x 9 columns]\n"
     ]
    }
   ],
   "source": [
    "## selecting multiple columns\n",
    "\n",
    "print(data)"
   ]
  },
  {
   "cell_type": "code",
   "execution_count": 30,
   "id": "4ebe84c1",
   "metadata": {},
   "outputs": [
    {
     "name": "stdout",
     "output_type": "stream",
     "text": [
      "              Name Height  Weight\n",
      "0    Avery Bradley    6-2   180.0\n",
      "1      Jae Crowder    6-6   235.0\n",
      "2     John Holland    6-5   205.0\n",
      "3      R.J. Hunter    6-5   185.0\n",
      "4    Jonas Jerebko   6-10   231.0\n",
      "..             ...    ...     ...\n",
      "453   Shelvin Mack    6-3   203.0\n",
      "454      Raul Neto    6-1   179.0\n",
      "455   Tibor Pleiss    7-3   256.0\n",
      "456    Jeff Withey    7-0   231.0\n",
      "457            NaN    NaN     NaN\n",
      "\n",
      "[458 rows x 3 columns]\n"
     ]
    }
   ],
   "source": [
    "mulcol = data[['Name','Height','Weight']]\n",
    "print(mulcol)"
   ]
  },
  {
   "cell_type": "code",
   "execution_count": 34,
   "id": "03d0f170",
   "metadata": {
    "scrolled": true
   },
   "outputs": [
    {
     "data": {
      "text/html": [
       "<div>\n",
       "<style scoped>\n",
       "    .dataframe tbody tr th:only-of-type {\n",
       "        vertical-align: middle;\n",
       "    }\n",
       "\n",
       "    .dataframe tbody tr th {\n",
       "        vertical-align: top;\n",
       "    }\n",
       "\n",
       "    .dataframe thead th {\n",
       "        text-align: right;\n",
       "    }\n",
       "</style>\n",
       "<table border=\"1\" class=\"dataframe\">\n",
       "  <thead>\n",
       "    <tr style=\"text-align: right;\">\n",
       "      <th></th>\n",
       "      <th>Name</th>\n",
       "      <th>Team</th>\n",
       "      <th>Number</th>\n",
       "      <th>Position</th>\n",
       "      <th>Age</th>\n",
       "      <th>Height</th>\n",
       "      <th>Weight</th>\n",
       "      <th>College</th>\n",
       "      <th>Salary</th>\n",
       "    </tr>\n",
       "  </thead>\n",
       "  <tbody>\n",
       "    <tr>\n",
       "      <th>0</th>\n",
       "      <td>Avery Bradley</td>\n",
       "      <td>Boston Celtics</td>\n",
       "      <td>0.0</td>\n",
       "      <td>PG</td>\n",
       "      <td>25.0</td>\n",
       "      <td>6-2</td>\n",
       "      <td>180.0</td>\n",
       "      <td>Texas</td>\n",
       "      <td>7730337.0</td>\n",
       "    </tr>\n",
       "    <tr>\n",
       "      <th>3</th>\n",
       "      <td>R.J. Hunter</td>\n",
       "      <td>Boston Celtics</td>\n",
       "      <td>28.0</td>\n",
       "      <td>SG</td>\n",
       "      <td>22.0</td>\n",
       "      <td>6-5</td>\n",
       "      <td>185.0</td>\n",
       "      <td>Georgia State</td>\n",
       "      <td>1148640.0</td>\n",
       "    </tr>\n",
       "  </tbody>\n",
       "</table>\n",
       "</div>"
      ],
      "text/plain": [
       "            Name            Team  Number Position   Age Height  Weight  \\\n",
       "0  Avery Bradley  Boston Celtics     0.0       PG  25.0    6-2   180.0   \n",
       "3    R.J. Hunter  Boston Celtics    28.0       SG  22.0    6-5   185.0   \n",
       "\n",
       "         College     Salary  \n",
       "0          Texas  7730337.0  \n",
       "3  Georgia State  1148640.0  "
      ]
     },
     "execution_count": 34,
     "metadata": {},
     "output_type": "execute_result"
    }
   ],
   "source": [
    "mulrow = data.iloc[[0,3]]\n",
    "mulrow"
   ]
  },
  {
   "cell_type": "code",
   "execution_count": 41,
   "id": "c401a33e",
   "metadata": {},
   "outputs": [
    {
     "data": {
      "text/html": [
       "<div>\n",
       "<style scoped>\n",
       "    .dataframe tbody tr th:only-of-type {\n",
       "        vertical-align: middle;\n",
       "    }\n",
       "\n",
       "    .dataframe tbody tr th {\n",
       "        vertical-align: top;\n",
       "    }\n",
       "\n",
       "    .dataframe thead th {\n",
       "        text-align: right;\n",
       "    }\n",
       "</style>\n",
       "<table border=\"1\" class=\"dataframe\">\n",
       "  <thead>\n",
       "    <tr style=\"text-align: right;\">\n",
       "      <th></th>\n",
       "      <th>Age</th>\n",
       "      <th>Team</th>\n",
       "      <th>Salary</th>\n",
       "    </tr>\n",
       "    <tr>\n",
       "      <th>Name</th>\n",
       "      <th></th>\n",
       "      <th></th>\n",
       "      <th></th>\n",
       "    </tr>\n",
       "  </thead>\n",
       "  <tbody>\n",
       "    <tr>\n",
       "      <th>Avery Bradley</th>\n",
       "      <td>25.0</td>\n",
       "      <td>Boston Celtics</td>\n",
       "      <td>7730337.0</td>\n",
       "    </tr>\n",
       "    <tr>\n",
       "      <th>Kobe Bryant</th>\n",
       "      <td>37.0</td>\n",
       "      <td>Los Angeles Lakers</td>\n",
       "      <td>25000000.0</td>\n",
       "    </tr>\n",
       "  </tbody>\n",
       "</table>\n",
       "</div>"
      ],
      "text/plain": [
       "                Age                Team      Salary\n",
       "Name                                               \n",
       "Avery Bradley  25.0      Boston Celtics   7730337.0\n",
       "Kobe Bryant    37.0  Los Angeles Lakers  25000000.0"
      ]
     },
     "execution_count": 41,
     "metadata": {},
     "output_type": "execute_result"
    }
   ],
   "source": [
    "data = pd.read_csv('nba.csv',index_col='Name')\n",
    "slic=data.loc[['Avery Bradley','Kobe Bryant'],['Age','Team','Salary']]\n",
    "slic"
   ]
  },
  {
   "cell_type": "code",
   "execution_count": 42,
   "id": "f76cfaa2",
   "metadata": {},
   "outputs": [
    {
     "data": {
      "text/html": [
       "<div>\n",
       "<style scoped>\n",
       "    .dataframe tbody tr th:only-of-type {\n",
       "        vertical-align: middle;\n",
       "    }\n",
       "\n",
       "    .dataframe tbody tr th {\n",
       "        vertical-align: top;\n",
       "    }\n",
       "\n",
       "    .dataframe thead th {\n",
       "        text-align: right;\n",
       "    }\n",
       "</style>\n",
       "<table border=\"1\" class=\"dataframe\">\n",
       "  <thead>\n",
       "    <tr style=\"text-align: right;\">\n",
       "      <th></th>\n",
       "      <th>Age</th>\n",
       "      <th>College</th>\n",
       "    </tr>\n",
       "    <tr>\n",
       "      <th>Name</th>\n",
       "      <th></th>\n",
       "      <th></th>\n",
       "    </tr>\n",
       "  </thead>\n",
       "  <tbody>\n",
       "    <tr>\n",
       "      <th>Avery Bradley</th>\n",
       "      <td>25.0</td>\n",
       "      <td>Texas</td>\n",
       "    </tr>\n",
       "    <tr>\n",
       "      <th>Jae Crowder</th>\n",
       "      <td>25.0</td>\n",
       "      <td>Marquette</td>\n",
       "    </tr>\n",
       "    <tr>\n",
       "      <th>John Holland</th>\n",
       "      <td>27.0</td>\n",
       "      <td>Boston University</td>\n",
       "    </tr>\n",
       "    <tr>\n",
       "      <th>R.J. Hunter</th>\n",
       "      <td>22.0</td>\n",
       "      <td>Georgia State</td>\n",
       "    </tr>\n",
       "    <tr>\n",
       "      <th>Jonas Jerebko</th>\n",
       "      <td>29.0</td>\n",
       "      <td>NaN</td>\n",
       "    </tr>\n",
       "    <tr>\n",
       "      <th>...</th>\n",
       "      <td>...</td>\n",
       "      <td>...</td>\n",
       "    </tr>\n",
       "    <tr>\n",
       "      <th>Shelvin Mack</th>\n",
       "      <td>26.0</td>\n",
       "      <td>Butler</td>\n",
       "    </tr>\n",
       "    <tr>\n",
       "      <th>Raul Neto</th>\n",
       "      <td>24.0</td>\n",
       "      <td>NaN</td>\n",
       "    </tr>\n",
       "    <tr>\n",
       "      <th>Tibor Pleiss</th>\n",
       "      <td>26.0</td>\n",
       "      <td>NaN</td>\n",
       "    </tr>\n",
       "    <tr>\n",
       "      <th>Jeff Withey</th>\n",
       "      <td>26.0</td>\n",
       "      <td>Kansas</td>\n",
       "    </tr>\n",
       "    <tr>\n",
       "      <th>NaN</th>\n",
       "      <td>NaN</td>\n",
       "      <td>NaN</td>\n",
       "    </tr>\n",
       "  </tbody>\n",
       "</table>\n",
       "<p>458 rows × 2 columns</p>\n",
       "</div>"
      ],
      "text/plain": [
       "                Age            College\n",
       "Name                                  \n",
       "Avery Bradley  25.0              Texas\n",
       "Jae Crowder    25.0          Marquette\n",
       "John Holland   27.0  Boston University\n",
       "R.J. Hunter    22.0      Georgia State\n",
       "Jonas Jerebko  29.0                NaN\n",
       "...             ...                ...\n",
       "Shelvin Mack   26.0             Butler\n",
       "Raul Neto      24.0                NaN\n",
       "Tibor Pleiss   26.0                NaN\n",
       "Jeff Withey    26.0             Kansas\n",
       "NaN             NaN                NaN\n",
       "\n",
       "[458 rows x 2 columns]"
      ]
     },
     "execution_count": 42,
     "metadata": {},
     "output_type": "execute_result"
    }
   ],
   "source": [
    "data[['Age','College']]"
   ]
  },
  {
   "cell_type": "code",
   "execution_count": 47,
   "id": "55495180",
   "metadata": {},
   "outputs": [
    {
     "data": {
      "text/html": [
       "<div>\n",
       "<style scoped>\n",
       "    .dataframe tbody tr th:only-of-type {\n",
       "        vertical-align: middle;\n",
       "    }\n",
       "\n",
       "    .dataframe tbody tr th {\n",
       "        vertical-align: top;\n",
       "    }\n",
       "\n",
       "    .dataframe thead th {\n",
       "        text-align: right;\n",
       "    }\n",
       "</style>\n",
       "<table border=\"1\" class=\"dataframe\">\n",
       "  <thead>\n",
       "    <tr style=\"text-align: right;\">\n",
       "      <th></th>\n",
       "      <th>Name</th>\n",
       "      <th>Age</th>\n",
       "    </tr>\n",
       "  </thead>\n",
       "  <tbody>\n",
       "    <tr>\n",
       "      <th>0</th>\n",
       "      <td>Sarthak</td>\n",
       "      <td>23</td>\n",
       "    </tr>\n",
       "    <tr>\n",
       "      <th>1</th>\n",
       "      <td>Rohit</td>\n",
       "      <td>21</td>\n",
       "    </tr>\n",
       "    <tr>\n",
       "      <th>2</th>\n",
       "      <td>Ram</td>\n",
       "      <td>22</td>\n",
       "    </tr>\n",
       "  </tbody>\n",
       "</table>\n",
       "</div>"
      ],
      "text/plain": [
       "      Name  Age\n",
       "0  Sarthak   23\n",
       "1    Rohit   21\n",
       "2      Ram   22"
      ]
     },
     "execution_count": 47,
     "metadata": {},
     "output_type": "execute_result"
    }
   ],
   "source": [
    "dict = {'Name':['Sarthak','Rohit','Ram'],\n",
    "       'Age':[23,21,22]}\n",
    "df = pd.DataFrame(dict)\n",
    "df"
   ]
  },
  {
   "cell_type": "code",
   "execution_count": 49,
   "id": "82b78f5d",
   "metadata": {},
   "outputs": [
    {
     "data": {
      "text/plain": [
       "'Rohit'"
      ]
     },
     "execution_count": 49,
     "metadata": {},
     "output_type": "execute_result"
    }
   ],
   "source": [
    "df.iloc[1,0]"
   ]
  },
  {
   "cell_type": "markdown",
   "id": "c5836589",
   "metadata": {},
   "source": [
    "# Linked list\n"
   ]
  },
  {
   "cell_type": "code",
   "execution_count": 10,
   "id": "022cc48b",
   "metadata": {},
   "outputs": [
    {
     "name": "stdout",
     "output_type": "stream",
     "text": [
      "<__main__.node object at 0x0000021C8281A320>\n"
     ]
    }
   ],
   "source": [
    "class node:\n",
    "    def __init__(self,value):\n",
    "        self.data = value\n",
    "        self.next = None\n",
    "\n",
    "a = node(2)\n",
    "b = node(3)\n",
    "c = node(4)\n",
    "\n",
    "a.next = b\n",
    "b.next = c\n",
    "\n",
    "print(a.next)"
   ]
  },
  {
   "cell_type": "code",
   "execution_count": 17,
   "id": "9ae20ec4",
   "metadata": {},
   "outputs": [],
   "source": [
    "class node:\n",
    "    \n",
    "    def __init__(self,value):\n",
    "        self.data = value\n",
    "        self.next = None\n",
    "\n",
    "class linkedlist:\n",
    "    \n",
    "    def __init__(self):\n",
    "        self.head = None\n",
    "        self.n = 0\n",
    "    \n",
    "    def __len__(self):\n",
    "        return self.n\n",
    "    \n",
    "    def insert_head(self,value):\n",
    "        new_node = node(value)\n",
    "        new_node.next = self.head\n",
    "        self.head = new_node\n",
    "        self.n+=1\n",
    "\n",
    "    def traverse(self):\n",
    "        curr = self.head\n",
    "        while curr != None:\n",
    "            print(curr.data)\n",
    "            curr = curr.next"
   ]
  },
  {
   "cell_type": "code",
   "execution_count": 20,
   "id": "9ebbdd94",
   "metadata": {},
   "outputs": [
    {
     "name": "stdout",
     "output_type": "stream",
     "text": [
      "1\n",
      "2\n",
      "3\n",
      "4\n"
     ]
    }
   ],
   "source": [
    "L = linkedlist()\n",
    "L.insert_head(4)\n",
    "L.insert_head(3)\n",
    "L.insert_head(2)\n",
    "L.insert_head(1)\n",
    "\n",
    "L.traverse()"
   ]
  },
  {
   "cell_type": "code",
   "execution_count": null,
   "id": "de863012",
   "metadata": {},
   "outputs": [],
   "source": []
  }
 ],
 "metadata": {
  "kernelspec": {
   "display_name": "Python 3 (ipykernel)",
   "language": "python",
   "name": "python3"
  },
  "language_info": {
   "codemirror_mode": {
    "name": "ipython",
    "version": 3
   },
   "file_extension": ".py",
   "mimetype": "text/x-python",
   "name": "python",
   "nbconvert_exporter": "python",
   "pygments_lexer": "ipython3",
   "version": "3.10.9"
  }
 },
 "nbformat": 4,
 "nbformat_minor": 5
}
